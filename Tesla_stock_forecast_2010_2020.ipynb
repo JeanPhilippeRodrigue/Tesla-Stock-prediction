{
  "nbformat": 4,
  "nbformat_minor": 0,
  "metadata": {
    "colab": {
      "name": "Tesla_stock_forecast_2010-2020.ipynb",
      "provenance": []
    },
    "kernelspec": {
      "name": "python3",
      "display_name": "Python 3"
    }
  },
  "cells": [
    {
      "cell_type": "code",
      "metadata": {
        "id": "0qkgc8X4hphk",
        "colab": {
          "base_uri": "https://localhost:8080/"
        },
        "outputId": "c2823e9c-2c36-40f2-f53f-b1cc8f6983a9"
      },
      "source": [
        "!kaggle datasets download -d timoboz/tesla-stock-data-from-2010-to-2020"
      ],
      "execution_count": null,
      "outputs": [
        {
          "output_type": "stream",
          "text": [
            "Downloading tesla-stock-data-from-2010-to-2020.zip to /content\n",
            "\r  0% 0.00/46.1k [00:00<?, ?B/s]\n",
            "\r100% 46.1k/46.1k [00:00<00:00, 16.9MB/s]\n"
          ],
          "name": "stdout"
        }
      ]
    },
    {
      "cell_type": "code",
      "metadata": {
        "id": "fzwd3JelhtgT",
        "colab": {
          "base_uri": "https://localhost:8080/"
        },
        "outputId": "69793186-2f1b-4934-8976-e6b137606f71"
      },
      "source": [
        "!unzip /content/tesla-stock-data-from-2010-to-2020.zip -d data"
      ],
      "execution_count": null,
      "outputs": [
        {
          "output_type": "stream",
          "text": [
            "Archive:  /content/tesla-stock-data-from-2010-to-2020.zip\n",
            "  inflating: data/TSLA.csv           \n"
          ],
          "name": "stdout"
        }
      ]
    },
    {
      "cell_type": "code",
      "metadata": {
        "id": "M28AmR2Wh-0B"
      },
      "source": [
        "import tensorflow as tf\n",
        "import pandas as pd\n",
        "import numpy as np\n",
        "import matplotlib.pyplot as plt\n",
        "from datetime import datetime\n",
        "import sklearn\n",
        "from sklearn.preprocessing import MinMaxScaler\n",
        "\n",
        "keras = tf.keras"
      ],
      "execution_count": null,
      "outputs": []
    },
    {
      "cell_type": "code",
      "metadata": {
        "id": "X-ubvIdxiYzt"
      },
      "source": [
        "#creating the dataset\n",
        "\n",
        "input_path = pd.read_csv('/content/data/TSLA.csv')"
      ],
      "execution_count": null,
      "outputs": []
    },
    {
      "cell_type": "code",
      "metadata": {
        "id": "UKvXH8XIiixh",
        "colab": {
          "base_uri": "https://localhost:8080/"
        },
        "outputId": "1252d19c-4d0d-4e6b-c97b-84d3cec2c59b"
      },
      "source": [
        "# Getting some info first. Checking if the data is clean\n",
        "#input_path.info()\n",
        "\n",
        "# Let't turn the Date object into a Datetime format\n",
        "input_path['Date'] = pd.to_datetime(input_path['Date'])\n",
        "\n",
        "input_path.info()"
      ],
      "execution_count": null,
      "outputs": [
        {
          "output_type": "stream",
          "text": [
            "<class 'pandas.core.frame.DataFrame'>\n",
            "RangeIndex: 2416 entries, 0 to 2415\n",
            "Data columns (total 7 columns):\n",
            " #   Column     Non-Null Count  Dtype         \n",
            "---  ------     --------------  -----         \n",
            " 0   Date       2416 non-null   datetime64[ns]\n",
            " 1   Open       2416 non-null   float64       \n",
            " 2   High       2416 non-null   float64       \n",
            " 3   Low        2416 non-null   float64       \n",
            " 4   Close      2416 non-null   float64       \n",
            " 5   Adj Close  2416 non-null   float64       \n",
            " 6   Volume     2416 non-null   int64         \n",
            "dtypes: datetime64[ns](1), float64(5), int64(1)\n",
            "memory usage: 132.2 KB\n"
          ],
          "name": "stdout"
        }
      ]
    },
    {
      "cell_type": "code",
      "metadata": {
        "id": "uJg1wli4jwJq",
        "colab": {
          "base_uri": "https://localhost:8080/",
          "height": 388
        },
        "outputId": "f9a6b2eb-130e-4e43-cc64-ffff17478d6c"
      },
      "source": [
        "#Let's quickly define a function to plot the graph\n",
        "def plot_series(time, series, label):\n",
        "  plt.plot(time, series, label = label)\n",
        "  plt.xlabel('Date')\n",
        "  plt.ylabel('Price')\n",
        "  plt.grid(True)\n",
        "  if label:\n",
        "    plt.legend(fontsize = 12)\n",
        "\n",
        "plt.figure(figsize = (10,6))\n",
        "plot_series(input_path['Date'], input_path['Close'], 'Closing Price')\n"
      ],
      "execution_count": null,
      "outputs": [
        {
          "output_type": "display_data",
          "data": {
            "image/png": "[encoded data removed]",
            "text/plain": [
              "<Figure size 720x432 with 1 Axes>"
            ]
          },
          "metadata": {
            "tags": [],
            "needs_background": "light"
          }
        }
      ]
    },
    {
      "cell_type": "code",
      "metadata": {
        "id": "Cqh12yS1kj35"
      },
      "source": [
        "split_time = 1930 # Will be using this number to split the training and validation data (80%, 20%) respectively.\n",
        "series = input_path['Close']\n",
        "time = input_path['Date']\n",
        "\n",
        "x_train = series.iloc[:split_time]\n",
        "time_train = time.iloc[:split_time]\n",
        "x_valid = series.iloc[split_time:]\n",
        "time_valid = time.iloc[split_time:]"
      ],
      "execution_count": null,
      "outputs": []
    },
    {
      "cell_type": "markdown",
      "metadata": {
        "id": "n6FWVTuollaf"
      },
      "source": [
        "Forecasting using ML, we first need to create some windows (datasets of the dataset) and turning them into tensors. Sequence-to-sequence RNN usually works well in that case."
      ]
    },
    {
      "cell_type": "code",
      "metadata": {
        "id": "IaaK4IuYlXE8"
      },
      "source": [
        "def window_dataset(series, window_size, batch_size = 32, shuffle_buffer = 1000):\n",
        "  ds = tf.expand_dims(series, axis = -1) # RNN takes only a 3D input shape. Thus we need to add an extra dimension.\n",
        "  ds = tf.data.Dataset.from_tensor_slices(series)\n",
        "  ds = ds.window(window_size + 1, shift = 1, drop_remainder = True)\n",
        "  ds = ds.flat_map(lambda window: window.batch(window_size + 1))\n",
        "  ds = ds.map(lambda x: (x[:-1], x[-1:]))\n",
        "  ds = ds.shuffle(shuffle_buffer)\n",
        "  ds = ds.batch(32).prefetch(1)\n",
        "  return ds"
      ],
      "execution_count": null,
      "outputs": []
    },
    {
      "cell_type": "markdown",
      "metadata": {
        "id": "B3lArkouokBE"
      },
      "source": [
        "Now, deep learning works best with numpy arrays. We should then convert our two series into 2D numpy arrays."
      ]
    },
    {
      "cell_type": "code",
      "metadata": {
        "id": "MGcwye4aotuC",
        "colab": {
          "base_uri": "https://localhost:8080/"
        },
        "outputId": "a5ad54f9-3302-4359-e47a-e749b0c3d8cf"
      },
      "source": [
        "x_train_np = x_train.to_numpy()\n",
        "x_train_np = x_train_np.reshape(-1, 1)\n",
        "x_valid_np = x_valid.to_numpy()\n",
        "x_valid_np = x_valid_np.reshape(-1, 1)\n",
        "series_np = series.to_numpy()\n",
        "series_np = series_np.reshape(-1, 1)\n",
        "\n",
        "print(series_np.shape)\n",
        "print(x_train_np.shape)\n",
        "print(x_valid_np.shape)"
      ],
      "execution_count": null,
      "outputs": [
        {
          "output_type": "stream",
          "text": [
            "(2416, 1)\n",
            "(1930, 1)\n",
            "(486, 1)\n"
          ],
          "name": "stdout"
        }
      ]
    },
    {
      "cell_type": "markdown",
      "metadata": {
        "id": "wUh-eF-2vVzX"
      },
      "source": [
        "Now, Let's normalize our data. Since we have a large range of values, normalizing our data will help the model train faster and be more stable. We should also reduce the risk of the vanishing gradient problem."
      ]
    },
    {
      "cell_type": "code",
      "metadata": {
        "id": "DMIX_cFxvlBH"
      },
      "source": [
        "scaler = MinMaxScaler()\n",
        "\n",
        "x_train_np_n = scaler.fit_transform(x_train_np)\n",
        "x_valid_np_n = scaler.fit_transform(x_valid_np)\n",
        "series_np_n = scaler.fit_transform(series_np)"
      ],
      "execution_count": null,
      "outputs": []
    },
    {
      "cell_type": "code",
      "metadata": {
        "id": "PsZVWaYc0vtI",
        "colab": {
          "base_uri": "https://localhost:8080/"
        },
        "outputId": "a714d612-bc47-4f43-8b91-ca5501b50750"
      },
      "source": [
        "print(series_np_n)"
      ],
      "execution_count": null,
      "outputs": [
        {
          "output_type": "stream",
          "text": [
            "[[0.01058623]\n",
            " [0.01050772]\n",
            " [0.00806072]\n",
            " ...\n",
            " [0.81786181]\n",
            " [0.83063335]\n",
            " [1.        ]]\n"
          ],
          "name": "stdout"
        }
      ]
    },
    {
      "cell_type": "code",
      "metadata": {
        "id": "nQP4WXJdj6-w"
      },
      "source": [
        "window_size = 10\n",
        "training_set = window_dataset(x_train_np_n, window_size, batch_size = 30) # Will be our training set for training the model\n",
        "validation_set = window_dataset(x_valid_np_n, window_size, batch_size = 30) #Will be our validation set for training the model"
      ],
      "execution_count": null,
      "outputs": []
    },
    {
      "cell_type": "code",
      "metadata": {
        "id": "L831JJJPm5Kr",
        "colab": {
          "base_uri": "https://localhost:8080/",
          "height": 1000
        },
        "outputId": "59c9c74d-8c9d-4363-9aee-b52e96583451"
      },
      "source": [
        "model = tf.keras.models.Sequential([\n",
        "   tf.keras.layers.SimpleRNN(100, return_sequences = True, input_shape = [None, 1]),\n",
        "   tf.keras.layers.SimpleRNN(100, return_sequences = True),\n",
        "   tf.keras.layers.Dense(1)\n",
        "   \n",
        "])\n",
        "\n",
        "lr_schedule = tf.keras.callbacks.LearningRateScheduler(lambda epoch: 1e-7 * 10**(epoch/25))\n",
        "optimizer = tf.keras.optimizers.SGD(lr = 1e-7, momentum = 0.9)\n",
        "model.compile(optimizer = optimizer,\n",
        "              loss = tf.keras.losses.Huber(),\n",
        "              metrics = ['mae'])\n",
        "history = model.fit(training_set, epochs = 135, callbacks = [lr_schedule])"
      ],
      "execution_count": null,
      "outputs": [
        {
          "output_type": "stream",
          "text": [
            "Epoch 1/135\n",
            "60/60 [==============================] - 1s 9ms/step - loss: 0.0637 - mae: 0.2532\n",
            "Epoch 2/135\n",
            "60/60 [==============================] - 1s 8ms/step - loss: 0.0635 - mae: 0.2526\n",
            "Epoch 3/135\n",
            "60/60 [==============================] - 1s 9ms/step - loss: 0.0633 - mae: 0.2519\n",
            "Epoch 4/135\n",
            "60/60 [==============================] - 0s 8ms/step - loss: 0.0631 - mae: 0.2512\n",
            "Epoch 5/135\n",
            "60/60 [==============================] - 1s 9ms/step - loss: 0.0629 - mae: 0.2504\n",
            "Epoch 6/135\n",
            "60/60 [==============================] - 1s 8ms/step - loss: 0.0627 - mae: 0.2496\n",
            "Epoch 7/135\n",
            "60/60 [==============================] - 0s 8ms/step - loss: 0.0624 - mae: 0.2487\n",
            "Epoch 8/135\n",
            "60/60 [==============================] - 1s 9ms/step - loss: 0.0622 - mae: 0.2478\n",
            "Epoch 9/135\n",
            "60/60 [==============================] - 0s 8ms/step - loss: 0.0619 - mae: 0.2468\n",
            "Epoch 10/135\n",
            "60/60 [==============================] - 1s 9ms/step - loss: 0.0615 - mae: 0.2457\n",
            "Epoch 11/135\n",
            "60/60 [==============================] - 0s 8ms/step - loss: 0.0612 - mae: 0.2445\n",
            "Epoch 12/135\n",
            "60/60 [==============================] - 1s 9ms/step - loss: 0.0608 - mae: 0.2433\n",
            "Epoch 13/135\n",
            "60/60 [==============================] - 0s 8ms/step - loss: 0.0604 - mae: 0.2420\n",
            "Epoch 14/135\n",
            "60/60 [==============================] - 0s 8ms/step - loss: 0.0600 - mae: 0.2407\n",
            "Epoch 15/135\n",
            "60/60 [==============================] - 0s 8ms/step - loss: 0.0595 - mae: 0.2393\n",
            "Epoch 16/135\n",
            "60/60 [==============================] - 1s 8ms/step - loss: 0.0590 - mae: 0.2378\n",
            "Epoch 17/135\n",
            "60/60 [==============================] - 0s 8ms/step - loss: 0.0585 - mae: 0.2363\n",
            "Epoch 18/135\n",
            "60/60 [==============================] - 0s 8ms/step - loss: 0.0579 - mae: 0.2347\n",
            "Epoch 19/135\n",
            "60/60 [==============================] - 0s 8ms/step - loss: 0.0573 - mae: 0.2330\n",
            "Epoch 20/135\n",
            "60/60 [==============================] - 0s 8ms/step - loss: 0.0567 - mae: 0.2313\n",
            "Epoch 21/135\n",
            "60/60 [==============================] - 0s 8ms/step - loss: 0.0561 - mae: 0.2295\n",
            "Epoch 22/135\n",
            "60/60 [==============================] - 0s 8ms/step - loss: 0.0554 - mae: 0.2277\n",
            "Epoch 23/135\n",
            "60/60 [==============================] - 0s 8ms/step - loss: 0.0547 - mae: 0.2259\n",
            "Epoch 24/135\n",
            "60/60 [==============================] - 0s 8ms/step - loss: 0.0539 - mae: 0.2240\n",
            "Epoch 25/135\n",
            "60/60 [==============================] - 0s 8ms/step - loss: 0.0532 - mae: 0.2221\n",
            "Epoch 26/135\n",
            "60/60 [==============================] - 1s 8ms/step - loss: 0.0524 - mae: 0.2202\n",
            "Epoch 27/135\n",
            "60/60 [==============================] - 0s 8ms/step - loss: 0.0515 - mae: 0.2183\n",
            "Epoch 28/135\n",
            "60/60 [==============================] - 0s 8ms/step - loss: 0.0507 - mae: 0.2162\n",
            "Epoch 29/135\n",
            "60/60 [==============================] - 0s 8ms/step - loss: 0.0499 - mae: 0.2142\n",
            "Epoch 30/135\n",
            "60/60 [==============================] - 0s 8ms/step - loss: 0.0490 - mae: 0.2122\n",
            "Epoch 31/135\n",
            "60/60 [==============================] - 0s 8ms/step - loss: 0.0482 - mae: 0.2101\n",
            "Epoch 32/135\n",
            "60/60 [==============================] - 0s 8ms/step - loss: 0.0474 - mae: 0.2080\n",
            "Epoch 33/135\n",
            "60/60 [==============================] - 0s 8ms/step - loss: 0.0465 - mae: 0.2060\n",
            "Epoch 34/135\n",
            "60/60 [==============================] - 0s 8ms/step - loss: 0.0457 - mae: 0.2041\n",
            "Epoch 35/135\n",
            "60/60 [==============================] - 0s 8ms/step - loss: 0.0449 - mae: 0.2022\n",
            "Epoch 36/135\n",
            "60/60 [==============================] - 0s 8ms/step - loss: 0.0441 - mae: 0.2005\n",
            "Epoch 37/135\n",
            "60/60 [==============================] - 0s 8ms/step - loss: 0.0434 - mae: 0.1988\n",
            "Epoch 38/135\n",
            "60/60 [==============================] - 0s 8ms/step - loss: 0.0427 - mae: 0.1972\n",
            "Epoch 39/135\n",
            "60/60 [==============================] - 0s 8ms/step - loss: 0.0419 - mae: 0.1957\n",
            "Epoch 40/135\n",
            "60/60 [==============================] - 0s 8ms/step - loss: 0.0413 - mae: 0.1942\n",
            "Epoch 41/135\n",
            "60/60 [==============================] - 0s 8ms/step - loss: 0.0406 - mae: 0.1927\n",
            "Epoch 42/135\n",
            "60/60 [==============================] - 0s 8ms/step - loss: 0.0399 - mae: 0.1912\n",
            "Epoch 43/135\n",
            "60/60 [==============================] - 0s 8ms/step - loss: 0.0392 - mae: 0.1896\n",
            "Epoch 44/135\n",
            "60/60 [==============================] - 0s 8ms/step - loss: 0.0386 - mae: 0.1880\n",
            "Epoch 45/135\n",
            "60/60 [==============================] - 0s 8ms/step - loss: 0.0379 - mae: 0.1862\n",
            "Epoch 46/135\n",
            "60/60 [==============================] - 0s 8ms/step - loss: 0.0372 - mae: 0.1842\n",
            "Epoch 47/135\n",
            "60/60 [==============================] - 1s 8ms/step - loss: 0.0365 - mae: 0.1821\n",
            "Epoch 48/135\n",
            "60/60 [==============================] - 1s 8ms/step - loss: 0.0358 - mae: 0.1798\n",
            "Epoch 49/135\n",
            "60/60 [==============================] - 0s 8ms/step - loss: 0.0350 - mae: 0.1773\n",
            "Epoch 50/135\n",
            "60/60 [==============================] - 0s 8ms/step - loss: 0.0342 - mae: 0.1746\n",
            "Epoch 51/135\n",
            "60/60 [==============================] - 1s 8ms/step - loss: 0.0334 - mae: 0.1717\n",
            "Epoch 52/135\n",
            "60/60 [==============================] - 0s 8ms/step - loss: 0.0325 - mae: 0.1686\n",
            "Epoch 53/135\n",
            "60/60 [==============================] - 0s 8ms/step - loss: 0.0316 - mae: 0.1654\n",
            "Epoch 54/135\n",
            "60/60 [==============================] - 0s 8ms/step - loss: 0.0307 - mae: 0.1621\n",
            "Epoch 55/135\n",
            "60/60 [==============================] - 1s 8ms/step - loss: 0.0298 - mae: 0.1586\n",
            "Epoch 56/135\n",
            "60/60 [==============================] - 0s 8ms/step - loss: 0.0288 - mae: 0.1551\n",
            "Epoch 57/135\n",
            "60/60 [==============================] - 0s 8ms/step - loss: 0.0279 - mae: 0.1516\n",
            "Epoch 58/135\n",
            "60/60 [==============================] - 0s 8ms/step - loss: 0.0269 - mae: 0.1479\n",
            "Epoch 59/135\n",
            "60/60 [==============================] - 0s 8ms/step - loss: 0.0259 - mae: 0.1442\n",
            "Epoch 60/135\n",
            "60/60 [==============================] - 1s 9ms/step - loss: 0.0249 - mae: 0.1407\n",
            "Epoch 61/135\n",
            "60/60 [==============================] - 0s 8ms/step - loss: 0.0240 - mae: 0.1373\n",
            "Epoch 62/135\n",
            "60/60 [==============================] - 0s 8ms/step - loss: 0.0230 - mae: 0.1339\n",
            "Epoch 63/135\n",
            "60/60 [==============================] - 0s 8ms/step - loss: 0.0221 - mae: 0.1309\n",
            "Epoch 64/135\n",
            "60/60 [==============================] - 0s 8ms/step - loss: 0.0211 - mae: 0.1280\n",
            "Epoch 65/135\n",
            "60/60 [==============================] - 0s 8ms/step - loss: 0.0202 - mae: 0.1255\n",
            "Epoch 66/135\n",
            "60/60 [==============================] - 0s 8ms/step - loss: 0.0193 - mae: 0.1230\n",
            "Epoch 67/135\n",
            "60/60 [==============================] - 0s 8ms/step - loss: 0.0185 - mae: 0.1206\n",
            "Epoch 68/135\n",
            "60/60 [==============================] - 1s 8ms/step - loss: 0.0176 - mae: 0.1182\n",
            "Epoch 69/135\n",
            "60/60 [==============================] - 0s 8ms/step - loss: 0.0168 - mae: 0.1159\n",
            "Epoch 70/135\n",
            "60/60 [==============================] - 0s 8ms/step - loss: 0.0160 - mae: 0.1135\n",
            "Epoch 71/135\n",
            "60/60 [==============================] - 0s 8ms/step - loss: 0.0152 - mae: 0.1110\n",
            "Epoch 72/135\n",
            "60/60 [==============================] - 0s 8ms/step - loss: 0.0144 - mae: 0.1082\n",
            "Epoch 73/135\n",
            "60/60 [==============================] - 0s 8ms/step - loss: 0.0137 - mae: 0.1055\n",
            "Epoch 74/135\n",
            "60/60 [==============================] - 0s 8ms/step - loss: 0.0130 - mae: 0.1024\n",
            "Epoch 75/135\n",
            "60/60 [==============================] - 1s 8ms/step - loss: 0.0122 - mae: 0.0994\n",
            "Epoch 76/135\n",
            "60/60 [==============================] - 0s 8ms/step - loss: 0.0115 - mae: 0.0960\n",
            "Epoch 77/135\n",
            "60/60 [==============================] - 0s 8ms/step - loss: 0.0109 - mae: 0.0930\n",
            "Epoch 78/135\n",
            "60/60 [==============================] - 0s 8ms/step - loss: 0.0102 - mae: 0.0899\n",
            "Epoch 79/135\n",
            "60/60 [==============================] - 0s 8ms/step - loss: 0.0096 - mae: 0.0867\n",
            "Epoch 80/135\n",
            "60/60 [==============================] - 0s 8ms/step - loss: 0.0090 - mae: 0.0839\n",
            "Epoch 81/135\n",
            "60/60 [==============================] - 1s 8ms/step - loss: 0.0085 - mae: 0.0809\n",
            "Epoch 82/135\n",
            "60/60 [==============================] - 0s 8ms/step - loss: 0.0079 - mae: 0.0784\n",
            "Epoch 83/135\n",
            "60/60 [==============================] - 0s 8ms/step - loss: 0.0075 - mae: 0.0759\n",
            "Epoch 84/135\n",
            "60/60 [==============================] - 0s 8ms/step - loss: 0.0070 - mae: 0.0732\n",
            "Epoch 85/135\n",
            "60/60 [==============================] - 0s 8ms/step - loss: 0.0065 - mae: 0.0711\n",
            "Epoch 86/135\n",
            "60/60 [==============================] - 0s 8ms/step - loss: 0.0061 - mae: 0.0690\n",
            "Epoch 87/135\n",
            "60/60 [==============================] - 0s 8ms/step - loss: 0.0057 - mae: 0.0668\n",
            "Epoch 88/135\n",
            "60/60 [==============================] - 0s 8ms/step - loss: 0.0053 - mae: 0.0649\n",
            "Epoch 89/135\n",
            "60/60 [==============================] - 1s 8ms/step - loss: 0.0050 - mae: 0.0628\n",
            "Epoch 90/135\n",
            "60/60 [==============================] - 0s 8ms/step - loss: 0.0047 - mae: 0.0609\n",
            "Epoch 91/135\n",
            "60/60 [==============================] - 1s 9ms/step - loss: 0.0044 - mae: 0.0589\n",
            "Epoch 92/135\n",
            "60/60 [==============================] - 0s 8ms/step - loss: 0.0041 - mae: 0.0571\n",
            "Epoch 93/135\n",
            "60/60 [==============================] - 1s 9ms/step - loss: 0.0038 - mae: 0.0555\n",
            "Epoch 94/135\n",
            "60/60 [==============================] - 0s 8ms/step - loss: 0.0035 - mae: 0.0540\n",
            "Epoch 95/135\n",
            "60/60 [==============================] - 1s 8ms/step - loss: 0.0033 - mae: 0.0520\n",
            "Epoch 96/135\n",
            "60/60 [==============================] - 1s 9ms/step - loss: 0.0030 - mae: 0.0505\n",
            "Epoch 97/135\n",
            "60/60 [==============================] - 1s 9ms/step - loss: 0.0028 - mae: 0.0488\n",
            "Epoch 98/135\n",
            "60/60 [==============================] - 1s 8ms/step - loss: 0.0026 - mae: 0.0469\n",
            "Epoch 99/135\n",
            "60/60 [==============================] - 1s 9ms/step - loss: 0.0024 - mae: 0.0451\n",
            "Epoch 100/135\n",
            "60/60 [==============================] - 1s 9ms/step - loss: 0.0022 - mae: 0.0432\n",
            "Epoch 101/135\n",
            "60/60 [==============================] - 1s 9ms/step - loss: 0.0021 - mae: 0.0414\n",
            "Epoch 102/135\n",
            "60/60 [==============================] - 1s 9ms/step - loss: 0.0019 - mae: 0.0396\n",
            "Epoch 103/135\n",
            "60/60 [==============================] - 0s 8ms/step - loss: 0.0018 - mae: 0.0380\n",
            "Epoch 104/135\n",
            "60/60 [==============================] - 0s 8ms/step - loss: 0.0017 - mae: 0.0364\n",
            "Epoch 105/135\n",
            "60/60 [==============================] - 1s 8ms/step - loss: 0.0015 - mae: 0.0353\n",
            "Epoch 106/135\n",
            "60/60 [==============================] - 1s 9ms/step - loss: 0.0014 - mae: 0.0341\n",
            "Epoch 107/135\n",
            "60/60 [==============================] - 1s 9ms/step - loss: 0.0013 - mae: 0.0331\n",
            "Epoch 108/135\n",
            "60/60 [==============================] - 1s 9ms/step - loss: 0.0012 - mae: 0.0321\n",
            "Epoch 109/135\n",
            "60/60 [==============================] - 0s 8ms/step - loss: 0.0012 - mae: 0.0312\n",
            "Epoch 110/135\n",
            "60/60 [==============================] - 1s 9ms/step - loss: 0.0011 - mae: 0.0304\n",
            "Epoch 111/135\n",
            "60/60 [==============================] - 1s 8ms/step - loss: 0.0010 - mae: 0.0294\n",
            "Epoch 112/135\n",
            "60/60 [==============================] - 1s 8ms/step - loss: 9.5968e-04 - mae: 0.0288\n",
            "Epoch 113/135\n",
            "60/60 [==============================] - 1s 8ms/step - loss: 9.0557e-04 - mae: 0.0282\n",
            "Epoch 114/135\n",
            "60/60 [==============================] - 1s 8ms/step - loss: 8.6288e-04 - mae: 0.0280\n",
            "Epoch 115/135\n",
            "60/60 [==============================] - 1s 8ms/step - loss: 8.0477e-04 - mae: 0.0271\n",
            "Epoch 116/135\n",
            "60/60 [==============================] - 1s 8ms/step - loss: 7.8409e-04 - mae: 0.0274\n",
            "Epoch 117/135\n",
            "60/60 [==============================] - 0s 8ms/step - loss: 7.2616e-04 - mae: 0.0264\n",
            "Epoch 118/135\n",
            "60/60 [==============================] - 0s 8ms/step - loss: 6.8672e-04 - mae: 0.0256\n",
            "Epoch 119/135\n",
            "60/60 [==============================] - 1s 9ms/step - loss: 6.5891e-04 - mae: 0.0253\n",
            "Epoch 120/135\n",
            "60/60 [==============================] - 1s 9ms/step - loss: 6.4221e-04 - mae: 0.0251\n",
            "Epoch 121/135\n",
            "60/60 [==============================] - 1s 9ms/step - loss: 6.0082e-04 - mae: 0.0240\n",
            "Epoch 122/135\n",
            "60/60 [==============================] - 1s 8ms/step - loss: 5.8226e-04 - mae: 0.0238\n",
            "Epoch 123/135\n",
            "60/60 [==============================] - 1s 9ms/step - loss: 5.6684e-04 - mae: 0.0233\n",
            "Epoch 124/135\n",
            "60/60 [==============================] - 1s 9ms/step - loss: 5.7262e-04 - mae: 0.0237\n",
            "Epoch 125/135\n",
            "60/60 [==============================] - 1s 9ms/step - loss: 5.5439e-04 - mae: 0.0233\n",
            "Epoch 126/135\n",
            "60/60 [==============================] - 1s 9ms/step - loss: 5.7505e-04 - mae: 0.0240\n",
            "Epoch 127/135\n",
            "60/60 [==============================] - 1s 9ms/step - loss: 5.2315e-04 - mae: 0.0219\n",
            "Epoch 128/135\n",
            "60/60 [==============================] - 1s 9ms/step - loss: 5.3594e-04 - mae: 0.0225\n",
            "Epoch 129/135\n",
            "60/60 [==============================] - 1s 9ms/step - loss: 6.0409e-04 - mae: 0.0248\n",
            "Epoch 130/135\n",
            "60/60 [==============================] - 0s 8ms/step - loss: 5.4552e-04 - mae: 0.0227\n",
            "Epoch 131/135\n",
            "60/60 [==============================] - 1s 9ms/step - loss: 5.6865e-04 - mae: 0.0240\n",
            "Epoch 132/135\n",
            "60/60 [==============================] - 0s 8ms/step - loss: 5.2310e-04 - mae: 0.0218\n",
            "Epoch 133/135\n",
            "60/60 [==============================] - 1s 8ms/step - loss: 5.3973e-04 - mae: 0.0223\n",
            "Epoch 134/135\n",
            "60/60 [==============================] - 0s 8ms/step - loss: 5.5191e-04 - mae: 0.0229\n",
            "Epoch 135/135\n",
            "60/60 [==============================] - 0s 8ms/step - loss: 5.7643e-04 - mae: 0.0235\n"
          ],
          "name": "stdout"
        }
      ]
    },
    {
      "cell_type": "code",
      "metadata": {
        "id": "Zj35nMm-r8HN",
        "colab": {
          "base_uri": "https://localhost:8080/",
          "height": 290
        },
        "outputId": "102949ac-8f31-4b7f-b6b6-099ba2202f13"
      },
      "source": [
        "plt.semilogx(history.history['lr'], history.history['loss']) # Let's now see what our learning rate should be\n",
        "plt.axis([1e-7, 1e-2, 0, 0.05])"
      ],
      "execution_count": null,
      "outputs": [
        {
          "output_type": "execute_result",
          "data": {
            "text/plain": [
              "(1e-07, 0.01, 0.0, 0.05)"
            ]
          },
          "metadata": {
            "tags": []
          },
          "execution_count": 123
        },
        {
          "output_type": "display_data",
          "data": {
            "image/png": "[encoded data removed]",
            "text/plain": [
              "<Figure size 432x288 with 1 Axes>"
            ]
          },
          "metadata": {
            "tags": [],
            "needs_background": "light"
          }
        }
      ]
    },
    {
      "cell_type": "markdown",
      "metadata": {
        "id": "18YBmHyexgv9"
      },
      "source": [
        "Based on the previous graph, lr = 1e-2 looks quite stable. Let's set it for the model"
      ]
    },
    {
      "cell_type": "code",
      "metadata": {
        "id": "ncaz3B83xrPU",
        "colab": {
          "base_uri": "https://localhost:8080/",
          "height": 1000
        },
        "outputId": "75cab934-013c-4399-f45c-93be1e29c93f"
      },
      "source": [
        "tf.keras.backend.clear_session()\n",
        "\n",
        "model = tf.keras.models.Sequential([\n",
        "   tf.keras.layers.SimpleRNN(100, return_sequences = True, input_shape = [None, 1]),\n",
        "   tf.keras.layers.SimpleRNN(100, return_sequences = True),\n",
        "   tf.keras.layers.Dense(1)\n",
        "   \n",
        "])\n",
        "\n",
        "optimizer = tf.keras.optimizers.SGD(lr = 1e-2, momentum = 0.9)\n",
        "early_stopping = tf.keras.callbacks.EarlyStopping(patience = 15)\n",
        "model.compile(optimizer = optimizer,\n",
        "              loss = tf.keras.losses.Huber(),\n",
        "              metrics = ['mae'])\n",
        "history = model.fit(training_set, epochs = 300, validation_data = validation_set, callbacks = [early_stopping])"
      ],
      "execution_count": null,
      "outputs": [
        {
          "output_type": "stream",
          "text": [
            "Epoch 1/300\n",
            "60/60 [==============================] - 1s 15ms/step - loss: 0.0048 - mae: 0.0688 - val_loss: 0.0020 - val_mae: 0.0490\n",
            "Epoch 2/300\n",
            "60/60 [==============================] - 1s 9ms/step - loss: 0.0010 - mae: 0.0335 - val_loss: 0.0013 - val_mae: 0.0379\n",
            "Epoch 3/300\n",
            "60/60 [==============================] - 1s 10ms/step - loss: 7.0744e-04 - mae: 0.0272 - val_loss: 0.0011 - val_mae: 0.0346\n",
            "Epoch 4/300\n",
            "60/60 [==============================] - 1s 10ms/step - loss: 6.5090e-04 - mae: 0.0260 - val_loss: 0.0011 - val_mae: 0.0342\n",
            "Epoch 5/300\n",
            "60/60 [==============================] - 1s 9ms/step - loss: 6.0295e-04 - mae: 0.0247 - val_loss: 0.0011 - val_mae: 0.0349\n",
            "Epoch 6/300\n",
            "60/60 [==============================] - 1s 10ms/step - loss: 5.6663e-04 - mae: 0.0235 - val_loss: 0.0012 - val_mae: 0.0358\n",
            "Epoch 7/300\n",
            "60/60 [==============================] - 1s 10ms/step - loss: 5.6338e-04 - mae: 0.0234 - val_loss: 0.0013 - val_mae: 0.0382\n",
            "Epoch 8/300\n",
            "60/60 [==============================] - 1s 10ms/step - loss: 5.4629e-04 - mae: 0.0229 - val_loss: 0.0010 - val_mae: 0.0325\n",
            "Epoch 9/300\n",
            "60/60 [==============================] - 1s 10ms/step - loss: 5.6347e-04 - mae: 0.0234 - val_loss: 0.0011 - val_mae: 0.0344\n",
            "Epoch 10/300\n",
            "60/60 [==============================] - 1s 10ms/step - loss: 5.4612e-04 - mae: 0.0227 - val_loss: 0.0011 - val_mae: 0.0348\n",
            "Epoch 11/300\n",
            "60/60 [==============================] - 1s 10ms/step - loss: 5.5204e-04 - mae: 0.0231 - val_loss: 0.0011 - val_mae: 0.0334\n",
            "Epoch 12/300\n",
            "60/60 [==============================] - 1s 10ms/step - loss: 5.1918e-04 - mae: 0.0218 - val_loss: 0.0010 - val_mae: 0.0326\n",
            "Epoch 13/300\n",
            "60/60 [==============================] - 1s 11ms/step - loss: 5.2976e-04 - mae: 0.0221 - val_loss: 0.0011 - val_mae: 0.0329\n",
            "Epoch 14/300\n",
            "60/60 [==============================] - 1s 10ms/step - loss: 5.4462e-04 - mae: 0.0228 - val_loss: 0.0010 - val_mae: 0.0322\n",
            "Epoch 15/300\n",
            "60/60 [==============================] - 1s 10ms/step - loss: 5.1938e-04 - mae: 0.0218 - val_loss: 0.0010 - val_mae: 0.0319\n",
            "Epoch 16/300\n",
            "60/60 [==============================] - 1s 10ms/step - loss: 5.4195e-04 - mae: 0.0225 - val_loss: 0.0011 - val_mae: 0.0352\n",
            "Epoch 17/300\n",
            "60/60 [==============================] - 1s 10ms/step - loss: 5.4968e-04 - mae: 0.0229 - val_loss: 0.0013 - val_mae: 0.0376\n",
            "Epoch 18/300\n",
            "60/60 [==============================] - 1s 10ms/step - loss: 5.3152e-04 - mae: 0.0221 - val_loss: 0.0011 - val_mae: 0.0342\n",
            "Epoch 19/300\n",
            "60/60 [==============================] - 1s 10ms/step - loss: 5.1918e-04 - mae: 0.0220 - val_loss: 0.0011 - val_mae: 0.0333\n",
            "Epoch 20/300\n",
            "60/60 [==============================] - 1s 10ms/step - loss: 5.1246e-04 - mae: 0.0213 - val_loss: 0.0011 - val_mae: 0.0342\n",
            "Epoch 21/300\n",
            "60/60 [==============================] - 1s 10ms/step - loss: 5.1440e-04 - mae: 0.0215 - val_loss: 0.0010 - val_mae: 0.0320\n",
            "Epoch 22/300\n",
            "60/60 [==============================] - 1s 10ms/step - loss: 5.1606e-04 - mae: 0.0215 - val_loss: 0.0011 - val_mae: 0.0333\n",
            "Epoch 23/300\n",
            "60/60 [==============================] - 1s 11ms/step - loss: 5.1308e-04 - mae: 0.0213 - val_loss: 0.0010 - val_mae: 0.0320\n",
            "Epoch 24/300\n",
            "60/60 [==============================] - 1s 13ms/step - loss: 5.3308e-04 - mae: 0.0223 - val_loss: 0.0010 - val_mae: 0.0325\n",
            "Epoch 25/300\n",
            "60/60 [==============================] - 1s 11ms/step - loss: 5.1389e-04 - mae: 0.0213 - val_loss: 0.0010 - val_mae: 0.0317\n",
            "Epoch 26/300\n",
            "60/60 [==============================] - 1s 15ms/step - loss: 5.2054e-04 - mae: 0.0217 - val_loss: 0.0011 - val_mae: 0.0338\n",
            "Epoch 27/300\n",
            "60/60 [==============================] - 1s 12ms/step - loss: 5.1319e-04 - mae: 0.0213 - val_loss: 0.0011 - val_mae: 0.0330\n",
            "Epoch 28/300\n",
            "60/60 [==============================] - 1s 13ms/step - loss: 5.1138e-04 - mae: 0.0214 - val_loss: 0.0011 - val_mae: 0.0334\n",
            "Epoch 29/300\n",
            "60/60 [==============================] - 1s 14ms/step - loss: 5.1334e-04 - mae: 0.0216 - val_loss: 0.0011 - val_mae: 0.0327\n",
            "Epoch 30/300\n",
            "60/60 [==============================] - 1s 16ms/step - loss: 5.1788e-04 - mae: 0.0214 - val_loss: 0.0010 - val_mae: 0.0325\n",
            "Epoch 31/300\n",
            "60/60 [==============================] - 1s 12ms/step - loss: 5.2453e-04 - mae: 0.0217 - val_loss: 0.0010 - val_mae: 0.0324\n",
            "Epoch 32/300\n",
            "60/60 [==============================] - 1s 11ms/step - loss: 5.2028e-04 - mae: 0.0219 - val_loss: 0.0010 - val_mae: 0.0322\n",
            "Epoch 33/300\n",
            "60/60 [==============================] - 1s 14ms/step - loss: 5.0807e-04 - mae: 0.0211 - val_loss: 0.0010 - val_mae: 0.0315\n",
            "Epoch 34/300\n",
            "60/60 [==============================] - 1s 12ms/step - loss: 5.0034e-04 - mae: 0.0210 - val_loss: 0.0010 - val_mae: 0.0323\n",
            "Epoch 35/300\n",
            "60/60 [==============================] - 1s 13ms/step - loss: 5.6714e-04 - mae: 0.0227 - val_loss: 0.0010 - val_mae: 0.0319\n",
            "Epoch 36/300\n",
            "60/60 [==============================] - 1s 14ms/step - loss: 5.3275e-04 - mae: 0.0226 - val_loss: 0.0010 - val_mae: 0.0320\n",
            "Epoch 37/300\n",
            "60/60 [==============================] - 1s 13ms/step - loss: 5.9342e-04 - mae: 0.0234 - val_loss: 0.0011 - val_mae: 0.0333\n",
            "Epoch 38/300\n",
            "60/60 [==============================] - 1s 12ms/step - loss: 5.1010e-04 - mae: 0.0213 - val_loss: 0.0010 - val_mae: 0.0315\n",
            "Epoch 39/300\n",
            "60/60 [==============================] - 1s 12ms/step - loss: 5.1937e-04 - mae: 0.0215 - val_loss: 0.0010 - val_mae: 0.0317\n",
            "Epoch 40/300\n",
            "60/60 [==============================] - 1s 12ms/step - loss: 5.1741e-04 - mae: 0.0215 - val_loss: 0.0011 - val_mae: 0.0332\n",
            "Epoch 41/300\n",
            "60/60 [==============================] - 1s 13ms/step - loss: 5.0575e-04 - mae: 0.0212 - val_loss: 0.0010 - val_mae: 0.0316\n",
            "Epoch 42/300\n",
            "60/60 [==============================] - 1s 13ms/step - loss: 5.0411e-04 - mae: 0.0210 - val_loss: 0.0010 - val_mae: 0.0314\n",
            "Epoch 43/300\n",
            "60/60 [==============================] - 1s 13ms/step - loss: 5.0225e-04 - mae: 0.0209 - val_loss: 0.0010 - val_mae: 0.0319\n",
            "Epoch 44/300\n",
            "60/60 [==============================] - 1s 14ms/step - loss: 5.1866e-04 - mae: 0.0215 - val_loss: 0.0011 - val_mae: 0.0326\n",
            "Epoch 45/300\n",
            "60/60 [==============================] - 1s 13ms/step - loss: 5.1860e-04 - mae: 0.0216 - val_loss: 0.0010 - val_mae: 0.0322\n",
            "Epoch 46/300\n",
            "60/60 [==============================] - 1s 11ms/step - loss: 5.2890e-04 - mae: 0.0221 - val_loss: 0.0011 - val_mae: 0.0345\n",
            "Epoch 47/300\n",
            "60/60 [==============================] - 1s 11ms/step - loss: 5.0380e-04 - mae: 0.0211 - val_loss: 0.0010 - val_mae: 0.0321\n",
            "Epoch 48/300\n",
            "60/60 [==============================] - 1s 11ms/step - loss: 4.9515e-04 - mae: 0.0207 - val_loss: 0.0010 - val_mae: 0.0315\n"
          ],
          "name": "stdout"
        }
      ]
    },
    {
      "cell_type": "markdown",
      "metadata": {
        "id": "G2nTL-xHypjl"
      },
      "source": [
        "Let's define our forecast model"
      ]
    },
    {
      "cell_type": "code",
      "metadata": {
        "id": "8j8b_wQfyV7h"
      },
      "source": [
        "def model_forecast(model, series, window_size):\n",
        "  ds = tf.data.Dataset.from_tensor_slices(series)\n",
        "  ds = ds.window(window_size, shift = 1, drop_remainder = True)\n",
        "  ds = ds.flat_map(lambda window: window.batch(window_size))\n",
        "  ds = ds.batch(32).prefetch(1)\n",
        "  forecast = model.predict(ds)\n",
        "  return forecast"
      ],
      "execution_count": null,
      "outputs": []
    },
    {
      "cell_type": "markdown",
      "metadata": {
        "id": "r4zvomLD00Og"
      },
      "source": [
        "Now let's forecast!"
      ]
    },
    {
      "cell_type": "code",
      "metadata": {
        "id": "q9mlrPpWzmvQ",
        "colab": {
          "base_uri": "https://localhost:8080/",
          "height": 34
        },
        "outputId": "251421f2-9140-4bcb-bbc2-324ca0e9d767"
      },
      "source": [
        "rnn_forecast = model_forecast(model, series_np_n[split_time - window_size: - 1], window_size)[:,0]\n",
        "print(rnn_forecast.shape)\n",
        "rnn_forecast = scaler.inverse_transform(rnn_forecast)[:,0] # Reversing normalization to better interpret our results!"
      ],
      "execution_count": null,
      "outputs": [
        {
          "output_type": "stream",
          "text": [
            "(486, 1)\n"
          ],
          "name": "stdout"
        }
      ]
    },
    {
      "cell_type": "markdown",
      "metadata": {
        "id": "7EZxe2Pq04gr"
      },
      "source": [
        "Visualization:"
      ]
    },
    {
      "cell_type": "code",
      "metadata": {
        "id": "z7vGnT070w6k",
        "colab": {
          "base_uri": "https://localhost:8080/",
          "height": 388
        },
        "outputId": "595745d2-012e-4e79-9977-b7d1f86b6426"
      },
      "source": [
        "\n",
        "plt.figure(figsize = (10,6))\n",
        "plot_series(time_valid, x_valid_np, 'Closing Price')\n",
        "plot_series(time_valid, rnn_forecast, 'Forecast')"
      ],
      "execution_count": null,
      "outputs": [
        {
          "output_type": "display_data",
          "data": {
            "image/png": "[encoded data removed]",
            "text/plain": [
              "<Figure size 720x432 with 1 Axes>"
            ]
          },
          "metadata": {
            "tags": [],
            "needs_background": "light"
          }
        }
      ]
    },
    {
      "cell_type": "code",
      "metadata": {
        "id": "7piSWIc21QII",
        "colab": {
          "base_uri": "https://localhost:8080/",
          "height": 34
        },
        "outputId": "9d8486eb-c839-479a-c6e8-9ef72318fa69"
      },
      "source": [
        "x_valid_np = x_valid_np[:,0]\n",
        "tf.keras.metrics.mean_absolute_error(x_valid_np, rnn_forecast).numpy()"
      ],
      "execution_count": null,
      "outputs": [
        {
          "output_type": "execute_result",
          "data": {
            "text/plain": [
              "27.938135"
            ]
          },
          "metadata": {
            "tags": []
          },
          "execution_count": 129
        }
      ]
    },
    {
      "cell_type": "markdown",
      "metadata": {
        "id": "PpVsg0lVWIwT"
      },
      "source": [
        "Let's now try with preprocessing the data with a 1D-Convolutional layer!"
      ]
    },
    {
      "cell_type": "code",
      "metadata": {
        "id": "tBoGzZ63awyd",
        "colab": {
          "base_uri": "https://localhost:8080/",
          "height": 1000
        },
        "outputId": "5a3211c6-5f0b-462e-d962-b056534c564d"
      },
      "source": [
        "keras.backend.clear_session()\n",
        "\n",
        "model = keras.models.Sequential([\n",
        "   keras.layers.Conv1D(filters = 30,\n",
        "                       kernel_size = 5,\n",
        "                       strides = 1,\n",
        "                       padding = 'causal',\n",
        "                       activation = 'relu',\n",
        "                       input_shape = [None, 1]),\n",
        "   keras.layers.LSTM(32, return_sequences = True),\n",
        "   keras.layers.LSTM(32, return_sequences = True),\n",
        "\n",
        "   keras.layers.Dense(1)\n",
        "])\n",
        "\n",
        "lr_schedule = keras.callbacks.LearningRateScheduler(lambda epoch: 1e-7 * 10 ** (epoch/25))\n",
        "optimizer = keras.optimizers.SGD(lr = 1e-7, momentum = 0.9)\n",
        "\n",
        "model.compile(optimizer = optimizer,\n",
        "              loss = keras.losses.Huber(),\n",
        "              metrics = ['mae'])\n",
        "history = model.fit(training_set, epochs = 150, callbacks = [lr_schedule])"
      ],
      "execution_count": null,
      "outputs": [
        {
          "output_type": "stream",
          "text": [
            "Epoch 1/150\n",
            "60/60 [==============================] - 1s 10ms/step - loss: 0.1242 - mae: 0.3937\n",
            "Epoch 2/150\n",
            "60/60 [==============================] - 1s 10ms/step - loss: 0.1242 - mae: 0.3936\n",
            "Epoch 3/150\n",
            "60/60 [==============================] - 1s 11ms/step - loss: 0.1242 - mae: 0.3936\n",
            "Epoch 4/150\n",
            "60/60 [==============================] - 1s 10ms/step - loss: 0.1241 - mae: 0.3935\n",
            "Epoch 5/150\n",
            "60/60 [==============================] - 1s 11ms/step - loss: 0.1241 - mae: 0.3934\n",
            "Epoch 6/150\n",
            "60/60 [==============================] - 1s 11ms/step - loss: 0.1241 - mae: 0.3933\n",
            "Epoch 7/150\n",
            "60/60 [==============================] - 1s 11ms/step - loss: 0.1240 - mae: 0.3933\n",
            "Epoch 8/150\n",
            "60/60 [==============================] - 1s 11ms/step - loss: 0.1240 - mae: 0.3932\n",
            "Epoch 9/150\n",
            "60/60 [==============================] - 1s 11ms/step - loss: 0.1240 - mae: 0.3931\n",
            "Epoch 10/150\n",
            "60/60 [==============================] - 1s 11ms/step - loss: 0.1239 - mae: 0.3929\n",
            "Epoch 11/150\n",
            "60/60 [==============================] - 1s 11ms/step - loss: 0.1239 - mae: 0.3928\n",
            "Epoch 12/150\n",
            "60/60 [==============================] - 1s 12ms/step - loss: 0.1238 - mae: 0.3927\n",
            "Epoch 13/150\n",
            "60/60 [==============================] - 1s 12ms/step - loss: 0.1237 - mae: 0.3925\n",
            "Epoch 14/150\n",
            "60/60 [==============================] - 1s 11ms/step - loss: 0.1237 - mae: 0.3924\n",
            "Epoch 15/150\n",
            "60/60 [==============================] - 1s 11ms/step - loss: 0.1236 - mae: 0.3922\n",
            "Epoch 16/150\n",
            "60/60 [==============================] - 1s 11ms/step - loss: 0.1235 - mae: 0.3920\n",
            "Epoch 17/150\n",
            "60/60 [==============================] - 1s 11ms/step - loss: 0.1234 - mae: 0.3918\n",
            "Epoch 18/150\n",
            "60/60 [==============================] - 1s 11ms/step - loss: 0.1234 - mae: 0.3916\n",
            "Epoch 19/150\n",
            "60/60 [==============================] - 1s 11ms/step - loss: 0.1232 - mae: 0.3913\n",
            "Epoch 20/150\n",
            "60/60 [==============================] - 1s 10ms/step - loss: 0.1231 - mae: 0.3910\n",
            "Epoch 21/150\n",
            "60/60 [==============================] - 1s 11ms/step - loss: 0.1230 - mae: 0.3907\n",
            "Epoch 22/150\n",
            "60/60 [==============================] - 1s 11ms/step - loss: 0.1229 - mae: 0.3904\n",
            "Epoch 23/150\n",
            "60/60 [==============================] - 1s 11ms/step - loss: 0.1227 - mae: 0.3900\n",
            "Epoch 24/150\n",
            "60/60 [==============================] - 1s 11ms/step - loss: 0.1226 - mae: 0.3896\n",
            "Epoch 25/150\n",
            "60/60 [==============================] - 1s 11ms/step - loss: 0.1224 - mae: 0.3892\n",
            "Epoch 26/150\n",
            "60/60 [==============================] - 1s 11ms/step - loss: 0.1222 - mae: 0.3887\n",
            "Epoch 27/150\n",
            "60/60 [==============================] - 1s 11ms/step - loss: 0.1220 - mae: 0.3882\n",
            "Epoch 28/150\n",
            "60/60 [==============================] - 1s 11ms/step - loss: 0.1218 - mae: 0.3876\n",
            "Epoch 29/150\n",
            "60/60 [==============================] - 1s 11ms/step - loss: 0.1215 - mae: 0.3869\n",
            "Epoch 30/150\n",
            "60/60 [==============================] - 1s 11ms/step - loss: 0.1212 - mae: 0.3862\n",
            "Epoch 31/150\n",
            "60/60 [==============================] - 1s 11ms/step - loss: 0.1209 - mae: 0.3855\n",
            "Epoch 32/150\n",
            "60/60 [==============================] - 1s 12ms/step - loss: 0.1206 - mae: 0.3847\n",
            "Epoch 33/150\n",
            "60/60 [==============================] - 1s 11ms/step - loss: 0.1202 - mae: 0.3838\n",
            "Epoch 34/150\n",
            "60/60 [==============================] - 1s 12ms/step - loss: 0.1198 - mae: 0.3828\n",
            "Epoch 35/150\n",
            "60/60 [==============================] - 1s 11ms/step - loss: 0.1194 - mae: 0.3817\n",
            "Epoch 36/150\n",
            "60/60 [==============================] - 1s 11ms/step - loss: 0.1189 - mae: 0.3806\n",
            "Epoch 37/150\n",
            "60/60 [==============================] - 1s 11ms/step - loss: 0.1184 - mae: 0.3793\n",
            "Epoch 38/150\n",
            "60/60 [==============================] - 1s 11ms/step - loss: 0.1179 - mae: 0.3780\n",
            "Epoch 39/150\n",
            "60/60 [==============================] - 1s 11ms/step - loss: 0.1173 - mae: 0.3765\n",
            "Epoch 40/150\n",
            "60/60 [==============================] - 1s 11ms/step - loss: 0.1166 - mae: 0.3750\n",
            "Epoch 41/150\n",
            "60/60 [==============================] - 1s 10ms/step - loss: 0.1159 - mae: 0.3733\n",
            "Epoch 42/150\n",
            "60/60 [==============================] - 1s 11ms/step - loss: 0.1151 - mae: 0.3716\n",
            "Epoch 43/150\n",
            "60/60 [==============================] - 1s 11ms/step - loss: 0.1143 - mae: 0.3697\n",
            "Epoch 44/150\n",
            "60/60 [==============================] - 1s 11ms/step - loss: 0.1134 - mae: 0.3677\n",
            "Epoch 45/150\n",
            "60/60 [==============================] - 1s 11ms/step - loss: 0.1124 - mae: 0.3656\n",
            "Epoch 46/150\n",
            "60/60 [==============================] - 1s 11ms/step - loss: 0.1114 - mae: 0.3635\n",
            "Epoch 47/150\n",
            "60/60 [==============================] - 1s 12ms/step - loss: 0.1102 - mae: 0.3614\n",
            "Epoch 48/150\n",
            "60/60 [==============================] - 1s 11ms/step - loss: 0.1090 - mae: 0.3593\n",
            "Epoch 49/150\n",
            "60/60 [==============================] - 1s 11ms/step - loss: 0.1077 - mae: 0.3572\n",
            "Epoch 50/150\n",
            "60/60 [==============================] - 1s 11ms/step - loss: 0.1063 - mae: 0.3552\n",
            "Epoch 51/150\n",
            "60/60 [==============================] - 1s 11ms/step - loss: 0.1047 - mae: 0.3532\n",
            "Epoch 52/150\n",
            "60/60 [==============================] - 1s 11ms/step - loss: 0.1031 - mae: 0.3513\n",
            "Epoch 53/150\n",
            "60/60 [==============================] - 1s 11ms/step - loss: 0.1014 - mae: 0.3495\n",
            "Epoch 54/150\n",
            "60/60 [==============================] - 1s 11ms/step - loss: 0.0996 - mae: 0.3475\n",
            "Epoch 55/150\n",
            "60/60 [==============================] - 1s 11ms/step - loss: 0.0976 - mae: 0.3456\n",
            "Epoch 56/150\n",
            "60/60 [==============================] - 1s 11ms/step - loss: 0.0956 - mae: 0.3436\n",
            "Epoch 57/150\n",
            "60/60 [==============================] - 1s 11ms/step - loss: 0.0935 - mae: 0.3415\n",
            "Epoch 58/150\n",
            "60/60 [==============================] - 1s 11ms/step - loss: 0.0912 - mae: 0.3393\n",
            "Epoch 59/150\n",
            "60/60 [==============================] - 1s 11ms/step - loss: 0.0888 - mae: 0.3370\n",
            "Epoch 60/150\n",
            "60/60 [==============================] - 1s 11ms/step - loss: 0.0864 - mae: 0.3345\n",
            "Epoch 61/150\n",
            "60/60 [==============================] - 1s 11ms/step - loss: 0.0839 - mae: 0.3320\n",
            "Epoch 62/150\n",
            "60/60 [==============================] - 1s 11ms/step - loss: 0.0813 - mae: 0.3293\n",
            "Epoch 63/150\n",
            "60/60 [==============================] - 1s 11ms/step - loss: 0.0787 - mae: 0.3264\n",
            "Epoch 64/150\n",
            "60/60 [==============================] - 1s 12ms/step - loss: 0.0760 - mae: 0.3235\n",
            "Epoch 65/150\n",
            "60/60 [==============================] - 1s 11ms/step - loss: 0.0733 - mae: 0.3203\n",
            "Epoch 66/150\n",
            "60/60 [==============================] - 1s 12ms/step - loss: 0.0707 - mae: 0.3170\n",
            "Epoch 67/150\n",
            "60/60 [==============================] - 1s 11ms/step - loss: 0.0680 - mae: 0.3137\n",
            "Epoch 68/150\n",
            "60/60 [==============================] - 1s 11ms/step - loss: 0.0654 - mae: 0.3102\n",
            "Epoch 69/150\n",
            "60/60 [==============================] - 1s 11ms/step - loss: 0.0629 - mae: 0.3067\n",
            "Epoch 70/150\n",
            "60/60 [==============================] - 1s 11ms/step - loss: 0.0606 - mae: 0.3032\n",
            "Epoch 71/150\n",
            "60/60 [==============================] - 1s 11ms/step - loss: 0.0583 - mae: 0.2997\n",
            "Epoch 72/150\n",
            "60/60 [==============================] - 1s 11ms/step - loss: 0.0562 - mae: 0.2961\n",
            "Epoch 73/150\n",
            "60/60 [==============================] - 1s 11ms/step - loss: 0.0543 - mae: 0.2927\n",
            "Epoch 74/150\n",
            "60/60 [==============================] - 1s 11ms/step - loss: 0.0525 - mae: 0.2893\n",
            "Epoch 75/150\n",
            "60/60 [==============================] - 1s 11ms/step - loss: 0.0510 - mae: 0.2862\n",
            "Epoch 76/150\n",
            "60/60 [==============================] - 1s 11ms/step - loss: 0.0497 - mae: 0.2831\n",
            "Epoch 77/150\n",
            "60/60 [==============================] - 1s 11ms/step - loss: 0.0485 - mae: 0.2802\n",
            "Epoch 78/150\n",
            "60/60 [==============================] - 1s 11ms/step - loss: 0.0476 - mae: 0.2777\n",
            "Epoch 79/150\n",
            "60/60 [==============================] - 1s 11ms/step - loss: 0.0468 - mae: 0.2752\n",
            "Epoch 80/150\n",
            "60/60 [==============================] - 1s 11ms/step - loss: 0.0461 - mae: 0.2731\n",
            "Epoch 81/150\n",
            "60/60 [==============================] - 1s 11ms/step - loss: 0.0456 - mae: 0.2710\n",
            "Epoch 82/150\n",
            "60/60 [==============================] - 1s 11ms/step - loss: 0.0452 - mae: 0.2693\n",
            "Epoch 83/150\n",
            "60/60 [==============================] - 1s 11ms/step - loss: 0.0448 - mae: 0.2676\n",
            "Epoch 84/150\n",
            "60/60 [==============================] - 1s 13ms/step - loss: 0.0444 - mae: 0.2662\n",
            "Epoch 85/150\n",
            "60/60 [==============================] - 1s 13ms/step - loss: 0.0442 - mae: 0.2649\n",
            "Epoch 86/150\n",
            "60/60 [==============================] - 1s 12ms/step - loss: 0.0439 - mae: 0.2636\n",
            "Epoch 87/150\n",
            "60/60 [==============================] - 1s 12ms/step - loss: 0.0436 - mae: 0.2625\n",
            "Epoch 88/150\n",
            "60/60 [==============================] - 1s 13ms/step - loss: 0.0433 - mae: 0.2615\n",
            "Epoch 89/150\n",
            "60/60 [==============================] - 1s 12ms/step - loss: 0.0430 - mae: 0.2603\n",
            "Epoch 90/150\n",
            "60/60 [==============================] - 1s 12ms/step - loss: 0.0426 - mae: 0.2587\n",
            "Epoch 91/150\n",
            "60/60 [==============================] - 1s 12ms/step - loss: 0.0422 - mae: 0.2577\n",
            "Epoch 92/150\n",
            "60/60 [==============================] - 1s 13ms/step - loss: 0.0418 - mae: 0.2564\n",
            "Epoch 93/150\n",
            "60/60 [==============================] - 1s 13ms/step - loss: 0.0415 - mae: 0.2553\n",
            "Epoch 94/150\n",
            "60/60 [==============================] - 1s 13ms/step - loss: 0.0409 - mae: 0.2534\n",
            "Epoch 95/150\n",
            "60/60 [==============================] - 1s 12ms/step - loss: 0.0404 - mae: 0.2518\n",
            "Epoch 96/150\n",
            "60/60 [==============================] - 1s 12ms/step - loss: 0.0397 - mae: 0.2493\n",
            "Epoch 97/150\n",
            "60/60 [==============================] - 1s 14ms/step - loss: 0.0392 - mae: 0.2478\n",
            "Epoch 98/150\n",
            "60/60 [==============================] - 1s 14ms/step - loss: 0.0384 - mae: 0.2453\n",
            "Epoch 99/150\n",
            "60/60 [==============================] - 1s 15ms/step - loss: 0.0375 - mae: 0.2417\n",
            "Epoch 100/150\n",
            "60/60 [==============================] - 1s 18ms/step - loss: 0.0366 - mae: 0.2390\n",
            "Epoch 101/150\n",
            "60/60 [==============================] - 1s 22ms/step - loss: 0.0357 - mae: 0.2359\n",
            "Epoch 102/150\n",
            "60/60 [==============================] - 2s 28ms/step - loss: 0.0346 - mae: 0.2315\n",
            "Epoch 103/150\n",
            "60/60 [==============================] - 1s 23ms/step - loss: 0.0333 - mae: 0.2267\n",
            "Epoch 104/150\n",
            "60/60 [==============================] - 1s 11ms/step - loss: 0.0320 - mae: 0.2217\n",
            "Epoch 105/150\n",
            "60/60 [==============================] - 1s 12ms/step - loss: 0.0304 - mae: 0.2149\n",
            "Epoch 106/150\n",
            "60/60 [==============================] - 1s 11ms/step - loss: 0.0285 - mae: 0.2069\n",
            "Epoch 107/150\n",
            "60/60 [==============================] - 1s 12ms/step - loss: 0.0265 - mae: 0.1981\n",
            "Epoch 108/150\n",
            "60/60 [==============================] - 1s 12ms/step - loss: 0.0243 - mae: 0.1874\n",
            "Epoch 109/150\n",
            "60/60 [==============================] - 1s 11ms/step - loss: 0.0221 - mae: 0.1768\n",
            "Epoch 110/150\n",
            "60/60 [==============================] - 1s 11ms/step - loss: 0.0203 - mae: 0.1672\n",
            "Epoch 111/150\n",
            "60/60 [==============================] - 1s 11ms/step - loss: 0.0183 - mae: 0.1564\n",
            "Epoch 112/150\n",
            "60/60 [==============================] - 1s 11ms/step - loss: 0.0167 - mae: 0.1467\n",
            "Epoch 113/150\n",
            "60/60 [==============================] - 1s 11ms/step - loss: 0.0155 - mae: 0.1383\n",
            "Epoch 114/150\n",
            "60/60 [==============================] - 1s 11ms/step - loss: 0.0145 - mae: 0.1314\n",
            "Epoch 115/150\n",
            "60/60 [==============================] - 1s 11ms/step - loss: 0.0137 - mae: 0.1262\n",
            "Epoch 116/150\n",
            "60/60 [==============================] - 1s 11ms/step - loss: 0.0131 - mae: 0.1224\n",
            "Epoch 117/150\n",
            "60/60 [==============================] - 1s 11ms/step - loss: 0.0126 - mae: 0.1200\n",
            "Epoch 118/150\n",
            "60/60 [==============================] - 1s 11ms/step - loss: 0.0121 - mae: 0.1167\n",
            "Epoch 119/150\n",
            "60/60 [==============================] - 1s 11ms/step - loss: 0.0117 - mae: 0.1146\n",
            "Epoch 120/150\n",
            "60/60 [==============================] - 1s 11ms/step - loss: 0.0113 - mae: 0.1121\n",
            "Epoch 121/150\n",
            "60/60 [==============================] - 1s 11ms/step - loss: 0.0109 - mae: 0.1090\n",
            "Epoch 122/150\n",
            "60/60 [==============================] - 1s 11ms/step - loss: 0.0105 - mae: 0.1066\n",
            "Epoch 123/150\n",
            "60/60 [==============================] - 1s 11ms/step - loss: 0.0101 - mae: 0.1041\n",
            "Epoch 124/150\n",
            "60/60 [==============================] - 1s 12ms/step - loss: 0.0098 - mae: 0.1015\n",
            "Epoch 125/150\n",
            "60/60 [==============================] - 1s 11ms/step - loss: 0.0094 - mae: 0.0985\n",
            "Epoch 126/150\n",
            "60/60 [==============================] - 1s 11ms/step - loss: 0.0090 - mae: 0.0956\n",
            "Epoch 127/150\n",
            "60/60 [==============================] - 1s 12ms/step - loss: 0.0086 - mae: 0.0932\n",
            "Epoch 128/150\n",
            "60/60 [==============================] - 1s 11ms/step - loss: 0.0082 - mae: 0.0902\n",
            "Epoch 129/150\n",
            "60/60 [==============================] - 1s 11ms/step - loss: 0.0078 - mae: 0.0878\n",
            "Epoch 130/150\n",
            "60/60 [==============================] - 1s 11ms/step - loss: 0.0075 - mae: 0.0850\n",
            "Epoch 131/150\n",
            "60/60 [==============================] - 1s 11ms/step - loss: 0.0071 - mae: 0.0826\n",
            "Epoch 132/150\n",
            "60/60 [==============================] - 1s 11ms/step - loss: 0.0068 - mae: 0.0804\n",
            "Epoch 133/150\n",
            "60/60 [==============================] - 1s 11ms/step - loss: 0.0065 - mae: 0.0782\n",
            "Epoch 134/150\n",
            "60/60 [==============================] - 1s 11ms/step - loss: 0.0062 - mae: 0.0759\n",
            "Epoch 135/150\n",
            "60/60 [==============================] - 1s 11ms/step - loss: 0.0059 - mae: 0.0735\n",
            "Epoch 136/150\n",
            "60/60 [==============================] - 1s 11ms/step - loss: 0.0056 - mae: 0.0708\n",
            "Epoch 137/150\n",
            "60/60 [==============================] - 1s 11ms/step - loss: 0.0052 - mae: 0.0675\n",
            "Epoch 138/150\n",
            "60/60 [==============================] - 1s 11ms/step - loss: 0.0049 - mae: 0.0649\n",
            "Epoch 139/150\n",
            "60/60 [==============================] - 1s 11ms/step - loss: 0.0046 - mae: 0.0620\n",
            "Epoch 140/150\n",
            "60/60 [==============================] - 1s 11ms/step - loss: 0.0043 - mae: 0.0594\n",
            "Epoch 141/150\n",
            "60/60 [==============================] - 1s 11ms/step - loss: 0.0040 - mae: 0.0568\n",
            "Epoch 142/150\n",
            "60/60 [==============================] - 1s 11ms/step - loss: 0.0037 - mae: 0.0547\n",
            "Epoch 143/150\n",
            "60/60 [==============================] - 1s 11ms/step - loss: 0.0035 - mae: 0.0531\n",
            "Epoch 144/150\n",
            "60/60 [==============================] - 1s 11ms/step - loss: 0.0033 - mae: 0.0519\n",
            "Epoch 145/150\n",
            "60/60 [==============================] - 1s 11ms/step - loss: 0.0030 - mae: 0.0501\n",
            "Epoch 146/150\n",
            "60/60 [==============================] - 1s 11ms/step - loss: 0.0029 - mae: 0.0490\n",
            "Epoch 147/150\n",
            "60/60 [==============================] - 1s 11ms/step - loss: 0.0027 - mae: 0.0479\n",
            "Epoch 148/150\n",
            "60/60 [==============================] - 1s 11ms/step - loss: 0.0025 - mae: 0.0470\n",
            "Epoch 149/150\n",
            "60/60 [==============================] - 1s 11ms/step - loss: 0.0024 - mae: 0.0455\n",
            "Epoch 150/150\n",
            "60/60 [==============================] - 1s 11ms/step - loss: 0.0022 - mae: 0.0440\n"
          ],
          "name": "stdout"
        }
      ]
    },
    {
      "cell_type": "code",
      "metadata": {
        "id": "0J3xcqNXcoqE",
        "colab": {
          "base_uri": "https://localhost:8080/",
          "height": 290
        },
        "outputId": "d0b1efcf-27b3-4479-8e07-f1ad5748773d"
      },
      "source": [
        "plt.semilogx(history.history['lr'], history.history['loss'])\n",
        "plt.axis([1e-7, 1e-1, 0, 0.2])"
      ],
      "execution_count": null,
      "outputs": [
        {
          "output_type": "execute_result",
          "data": {
            "text/plain": [
              "(1e-07, 0.1, 0.0, 0.2)"
            ]
          },
          "metadata": {
            "tags": []
          },
          "execution_count": 143
        },
        {
          "output_type": "display_data",
          "data": {
            "image/png": "[encoded data removed]",
            "text/plain": [
              "<Figure size 432x288 with 1 Axes>"
            ]
          },
          "metadata": {
            "tags": [],
            "needs_background": "light"
          }
        }
      ]
    },
    {
      "cell_type": "code",
      "metadata": {
        "id": "DXX3NGwudgVZ",
        "colab": {
          "base_uri": "https://localhost:8080/",
          "height": 1000
        },
        "outputId": "be2beabc-1903-4d5a-9194-705c3b281e33"
      },
      "source": [
        "keras.backend.clear_session()\n",
        "\n",
        "model = keras.models.Sequential([\n",
        "   keras.layers.Conv1D(filters = 30,\n",
        "                       kernel_size = 5,\n",
        "                       strides = 1,\n",
        "                       padding = 'causal',\n",
        "                       activation = 'relu',\n",
        "                       input_shape = [None, 1]),\n",
        "   keras.layers.LSTM(32, return_sequences = True),\n",
        "   keras.layers.LSTM(32, return_sequences = True),\n",
        "\n",
        "   keras.layers.Dense(1)\n",
        "])\n",
        "\n",
        "early_stopping = keras.callbacks.EarlyStopping(patience = 15)\n",
        "optimizer = keras.optimizers.SGD(lr = 1e-1, momentum = 0.9)\n",
        "\n",
        "model.compile(optimizer = optimizer,\n",
        "              loss = keras.losses.Huber(),\n",
        "              metrics = ['mae'])\n",
        "history = model.fit(training_set, epochs = 300, validation_data = validation_set, callbacks = [early_stopping])"
      ],
      "execution_count": null,
      "outputs": [
        {
          "output_type": "stream",
          "text": [
            "Epoch 1/300\n",
            "60/60 [==============================] - 1s 25ms/step - loss: 0.0209 - mae: 0.1615 - val_loss: 0.0147 - val_mae: 0.1357\n",
            "Epoch 2/300\n",
            "60/60 [==============================] - 1s 13ms/step - loss: 0.0096 - mae: 0.0997 - val_loss: 0.0077 - val_mae: 0.0993\n",
            "Epoch 3/300\n",
            "60/60 [==============================] - 1s 13ms/step - loss: 0.0068 - mae: 0.0809 - val_loss: 0.0050 - val_mae: 0.0783\n",
            "Epoch 4/300\n",
            "60/60 [==============================] - 1s 13ms/step - loss: 0.0053 - mae: 0.0683 - val_loss: 0.0040 - val_mae: 0.0668\n",
            "Epoch 5/300\n",
            "60/60 [==============================] - 1s 13ms/step - loss: 0.0043 - mae: 0.0599 - val_loss: 0.0032 - val_mae: 0.0567\n",
            "Epoch 6/300\n",
            "60/60 [==============================] - 1s 13ms/step - loss: 0.0036 - mae: 0.0542 - val_loss: 0.0029 - val_mae: 0.0533\n",
            "Epoch 7/300\n",
            "60/60 [==============================] - 1s 13ms/step - loss: 0.0031 - mae: 0.0514 - val_loss: 0.0027 - val_mae: 0.0520\n",
            "Epoch 8/300\n",
            "60/60 [==============================] - 1s 14ms/step - loss: 0.0028 - mae: 0.0493 - val_loss: 0.0026 - val_mae: 0.0513\n",
            "Epoch 9/300\n",
            "60/60 [==============================] - 1s 13ms/step - loss: 0.0026 - mae: 0.0472 - val_loss: 0.0024 - val_mae: 0.0499\n",
            "Epoch 10/300\n",
            "60/60 [==============================] - 1s 13ms/step - loss: 0.0024 - mae: 0.0459 - val_loss: 0.0022 - val_mae: 0.0478\n",
            "Epoch 11/300\n",
            "60/60 [==============================] - 1s 13ms/step - loss: 0.0022 - mae: 0.0442 - val_loss: 0.0020 - val_mae: 0.0463\n",
            "Epoch 12/300\n",
            "60/60 [==============================] - 1s 14ms/step - loss: 0.0021 - mae: 0.0435 - val_loss: 0.0021 - val_mae: 0.0473\n",
            "Epoch 13/300\n",
            "60/60 [==============================] - 1s 13ms/step - loss: 0.0019 - mae: 0.0409 - val_loss: 0.0018 - val_mae: 0.0429\n",
            "Epoch 14/300\n",
            "60/60 [==============================] - 1s 13ms/step - loss: 0.0017 - mae: 0.0395 - val_loss: 0.0017 - val_mae: 0.0419\n",
            "Epoch 15/300\n",
            "60/60 [==============================] - 1s 14ms/step - loss: 0.0016 - mae: 0.0383 - val_loss: 0.0016 - val_mae: 0.0411\n",
            "Epoch 16/300\n",
            "60/60 [==============================] - 1s 12ms/step - loss: 0.0015 - mae: 0.0372 - val_loss: 0.0016 - val_mae: 0.0400\n",
            "Epoch 17/300\n",
            "60/60 [==============================] - 1s 13ms/step - loss: 0.0014 - mae: 0.0360 - val_loss: 0.0016 - val_mae: 0.0403\n",
            "Epoch 18/300\n",
            "60/60 [==============================] - 1s 13ms/step - loss: 0.0014 - mae: 0.0351 - val_loss: 0.0014 - val_mae: 0.0380\n",
            "Epoch 19/300\n",
            "60/60 [==============================] - 1s 13ms/step - loss: 0.0013 - mae: 0.0341 - val_loss: 0.0014 - val_mae: 0.0378\n",
            "Epoch 20/300\n",
            "60/60 [==============================] - 1s 14ms/step - loss: 0.0012 - mae: 0.0329 - val_loss: 0.0014 - val_mae: 0.0377\n",
            "Epoch 21/300\n",
            "60/60 [==============================] - 1s 13ms/step - loss: 0.0011 - mae: 0.0317 - val_loss: 0.0013 - val_mae: 0.0363\n",
            "Epoch 22/300\n",
            "60/60 [==============================] - 1s 13ms/step - loss: 0.0011 - mae: 0.0319 - val_loss: 0.0014 - val_mae: 0.0382\n",
            "Epoch 23/300\n",
            "60/60 [==============================] - 1s 13ms/step - loss: 0.0011 - mae: 0.0317 - val_loss: 0.0013 - val_mae: 0.0356\n",
            "Epoch 24/300\n",
            "60/60 [==============================] - 1s 14ms/step - loss: 9.9094e-04 - mae: 0.0306 - val_loss: 0.0012 - val_mae: 0.0350\n",
            "Epoch 25/300\n",
            "60/60 [==============================] - 1s 14ms/step - loss: 9.5825e-04 - mae: 0.0302 - val_loss: 0.0014 - val_mae: 0.0381\n",
            "Epoch 26/300\n",
            "60/60 [==============================] - 1s 12ms/step - loss: 8.8967e-04 - mae: 0.0289 - val_loss: 0.0012 - val_mae: 0.0350\n",
            "Epoch 27/300\n",
            "60/60 [==============================] - 1s 14ms/step - loss: 8.7796e-04 - mae: 0.0290 - val_loss: 0.0012 - val_mae: 0.0344\n",
            "Epoch 28/300\n",
            "60/60 [==============================] - 1s 13ms/step - loss: 8.1366e-04 - mae: 0.0277 - val_loss: 0.0012 - val_mae: 0.0341\n",
            "Epoch 29/300\n",
            "60/60 [==============================] - 1s 13ms/step - loss: 7.9490e-04 - mae: 0.0277 - val_loss: 0.0012 - val_mae: 0.0341\n",
            "Epoch 30/300\n",
            "60/60 [==============================] - 1s 13ms/step - loss: 7.7106e-04 - mae: 0.0274 - val_loss: 0.0011 - val_mae: 0.0343\n",
            "Epoch 31/300\n",
            "60/60 [==============================] - 1s 14ms/step - loss: 7.3515e-04 - mae: 0.0267 - val_loss: 0.0011 - val_mae: 0.0345\n",
            "Epoch 32/300\n",
            "60/60 [==============================] - 1s 13ms/step - loss: 7.2000e-04 - mae: 0.0265 - val_loss: 0.0011 - val_mae: 0.0335\n",
            "Epoch 33/300\n",
            "60/60 [==============================] - 1s 13ms/step - loss: 7.0590e-04 - mae: 0.0265 - val_loss: 0.0011 - val_mae: 0.0335\n",
            "Epoch 34/300\n",
            "60/60 [==============================] - 1s 14ms/step - loss: 7.0828e-04 - mae: 0.0267 - val_loss: 0.0012 - val_mae: 0.0358\n",
            "Epoch 35/300\n",
            "60/60 [==============================] - 1s 14ms/step - loss: 6.5772e-04 - mae: 0.0255 - val_loss: 0.0012 - val_mae: 0.0355\n",
            "Epoch 36/300\n",
            "60/60 [==============================] - 1s 13ms/step - loss: 6.7067e-04 - mae: 0.0259 - val_loss: 0.0011 - val_mae: 0.0332\n",
            "Epoch 37/300\n",
            "60/60 [==============================] - 1s 13ms/step - loss: 6.3047e-04 - mae: 0.0249 - val_loss: 0.0011 - val_mae: 0.0332\n",
            "Epoch 38/300\n",
            "60/60 [==============================] - 1s 14ms/step - loss: 6.6897e-04 - mae: 0.0261 - val_loss: 0.0011 - val_mae: 0.0348\n",
            "Epoch 39/300\n",
            "60/60 [==============================] - 1s 14ms/step - loss: 6.5068e-04 - mae: 0.0259 - val_loss: 0.0011 - val_mae: 0.0333\n",
            "Epoch 40/300\n",
            "60/60 [==============================] - 1s 13ms/step - loss: 6.0685e-04 - mae: 0.0244 - val_loss: 0.0011 - val_mae: 0.0333\n",
            "Epoch 41/300\n",
            "60/60 [==============================] - 1s 13ms/step - loss: 6.0619e-04 - mae: 0.0247 - val_loss: 0.0011 - val_mae: 0.0329\n",
            "Epoch 42/300\n",
            "60/60 [==============================] - 1s 13ms/step - loss: 6.4600e-04 - mae: 0.0257 - val_loss: 0.0011 - val_mae: 0.0336\n",
            "Epoch 43/300\n",
            "60/60 [==============================] - 1s 13ms/step - loss: 6.0376e-04 - mae: 0.0246 - val_loss: 0.0011 - val_mae: 0.0328\n",
            "Epoch 44/300\n",
            "60/60 [==============================] - 1s 14ms/step - loss: 6.0917e-04 - mae: 0.0248 - val_loss: 0.0011 - val_mae: 0.0334\n",
            "Epoch 45/300\n",
            "60/60 [==============================] - 1s 13ms/step - loss: 5.9234e-04 - mae: 0.0243 - val_loss: 0.0011 - val_mae: 0.0328\n",
            "Epoch 46/300\n",
            "60/60 [==============================] - 1s 14ms/step - loss: 5.8283e-04 - mae: 0.0240 - val_loss: 0.0011 - val_mae: 0.0340\n",
            "Epoch 47/300\n",
            "60/60 [==============================] - 1s 14ms/step - loss: 5.8357e-04 - mae: 0.0241 - val_loss: 0.0011 - val_mae: 0.0328\n",
            "Epoch 48/300\n",
            "60/60 [==============================] - 1s 15ms/step - loss: 5.7790e-04 - mae: 0.0237 - val_loss: 0.0011 - val_mae: 0.0337\n",
            "Epoch 49/300\n",
            "60/60 [==============================] - 1s 14ms/step - loss: 5.7235e-04 - mae: 0.0238 - val_loss: 0.0011 - val_mae: 0.0327\n",
            "Epoch 50/300\n",
            "60/60 [==============================] - 1s 13ms/step - loss: 5.6587e-04 - mae: 0.0237 - val_loss: 0.0011 - val_mae: 0.0327\n",
            "Epoch 51/300\n",
            "60/60 [==============================] - 1s 14ms/step - loss: 5.7085e-04 - mae: 0.0237 - val_loss: 0.0011 - val_mae: 0.0330\n",
            "Epoch 52/300\n",
            "60/60 [==============================] - 1s 14ms/step - loss: 5.7473e-04 - mae: 0.0240 - val_loss: 0.0012 - val_mae: 0.0347\n",
            "Epoch 53/300\n",
            "60/60 [==============================] - 1s 14ms/step - loss: 5.8611e-04 - mae: 0.0244 - val_loss: 0.0012 - val_mae: 0.0350\n",
            "Epoch 54/300\n",
            "60/60 [==============================] - 1s 14ms/step - loss: 5.5534e-04 - mae: 0.0235 - val_loss: 0.0011 - val_mae: 0.0334\n",
            "Epoch 55/300\n",
            "60/60 [==============================] - 1s 13ms/step - loss: 5.6567e-04 - mae: 0.0236 - val_loss: 0.0011 - val_mae: 0.0330\n",
            "Epoch 56/300\n",
            "60/60 [==============================] - 1s 13ms/step - loss: 5.7275e-04 - mae: 0.0241 - val_loss: 0.0011 - val_mae: 0.0324\n",
            "Epoch 57/300\n",
            "60/60 [==============================] - 1s 13ms/step - loss: 5.3970e-04 - mae: 0.0230 - val_loss: 0.0011 - val_mae: 0.0329\n",
            "Epoch 58/300\n",
            "60/60 [==============================] - 1s 14ms/step - loss: 5.8538e-04 - mae: 0.0246 - val_loss: 0.0011 - val_mae: 0.0331\n",
            "Epoch 59/300\n",
            "60/60 [==============================] - 1s 14ms/step - loss: 5.4861e-04 - mae: 0.0233 - val_loss: 0.0011 - val_mae: 0.0325\n",
            "Epoch 60/300\n",
            "60/60 [==============================] - 1s 14ms/step - loss: 5.4352e-04 - mae: 0.0230 - val_loss: 0.0011 - val_mae: 0.0331\n",
            "Epoch 61/300\n",
            "60/60 [==============================] - 1s 14ms/step - loss: 5.8038e-04 - mae: 0.0242 - val_loss: 0.0011 - val_mae: 0.0331\n",
            "Epoch 62/300\n",
            "60/60 [==============================] - 1s 13ms/step - loss: 5.6679e-04 - mae: 0.0237 - val_loss: 0.0011 - val_mae: 0.0324\n",
            "Epoch 63/300\n",
            "60/60 [==============================] - 1s 13ms/step - loss: 5.2975e-04 - mae: 0.0225 - val_loss: 0.0011 - val_mae: 0.0337\n",
            "Epoch 64/300\n",
            "60/60 [==============================] - 1s 14ms/step - loss: 5.3638e-04 - mae: 0.0226 - val_loss: 0.0011 - val_mae: 0.0328\n",
            "Epoch 65/300\n",
            "60/60 [==============================] - 1s 14ms/step - loss: 5.5153e-04 - mae: 0.0231 - val_loss: 0.0011 - val_mae: 0.0328\n",
            "Epoch 66/300\n",
            "60/60 [==============================] - 1s 14ms/step - loss: 5.2921e-04 - mae: 0.0226 - val_loss: 0.0011 - val_mae: 0.0323\n",
            "Epoch 67/300\n",
            "60/60 [==============================] - 1s 14ms/step - loss: 5.2700e-04 - mae: 0.0224 - val_loss: 0.0011 - val_mae: 0.0330\n",
            "Epoch 68/300\n",
            "60/60 [==============================] - 1s 14ms/step - loss: 5.8000e-04 - mae: 0.0244 - val_loss: 0.0011 - val_mae: 0.0336\n",
            "Epoch 69/300\n",
            "60/60 [==============================] - 1s 14ms/step - loss: 5.3107e-04 - mae: 0.0226 - val_loss: 0.0010 - val_mae: 0.0323\n",
            "Epoch 70/300\n",
            "60/60 [==============================] - 1s 13ms/step - loss: 5.3599e-04 - mae: 0.0226 - val_loss: 0.0011 - val_mae: 0.0324\n",
            "Epoch 71/300\n",
            "60/60 [==============================] - 1s 14ms/step - loss: 5.5747e-04 - mae: 0.0235 - val_loss: 0.0011 - val_mae: 0.0325\n",
            "Epoch 72/300\n",
            "60/60 [==============================] - 1s 14ms/step - loss: 5.4312e-04 - mae: 0.0229 - val_loss: 0.0011 - val_mae: 0.0323\n",
            "Epoch 73/300\n",
            "60/60 [==============================] - 1s 13ms/step - loss: 5.3850e-04 - mae: 0.0229 - val_loss: 0.0012 - val_mae: 0.0359\n",
            "Epoch 74/300\n",
            "60/60 [==============================] - 1s 14ms/step - loss: 5.3744e-04 - mae: 0.0232 - val_loss: 0.0011 - val_mae: 0.0329\n",
            "Epoch 75/300\n",
            "60/60 [==============================] - 1s 13ms/step - loss: 5.2064e-04 - mae: 0.0223 - val_loss: 0.0011 - val_mae: 0.0322\n",
            "Epoch 76/300\n",
            "60/60 [==============================] - 1s 14ms/step - loss: 5.2933e-04 - mae: 0.0222 - val_loss: 0.0011 - val_mae: 0.0335\n",
            "Epoch 77/300\n",
            "60/60 [==============================] - 1s 14ms/step - loss: 5.6170e-04 - mae: 0.0232 - val_loss: 0.0011 - val_mae: 0.0330\n",
            "Epoch 78/300\n",
            "60/60 [==============================] - 1s 13ms/step - loss: 5.1361e-04 - mae: 0.0218 - val_loss: 0.0011 - val_mae: 0.0324\n",
            "Epoch 79/300\n",
            "60/60 [==============================] - 1s 13ms/step - loss: 5.3341e-04 - mae: 0.0226 - val_loss: 0.0010 - val_mae: 0.0322\n",
            "Epoch 80/300\n",
            "60/60 [==============================] - 1s 14ms/step - loss: 5.3861e-04 - mae: 0.0225 - val_loss: 0.0011 - val_mae: 0.0327\n",
            "Epoch 81/300\n",
            "60/60 [==============================] - 1s 14ms/step - loss: 5.4483e-04 - mae: 0.0230 - val_loss: 0.0010 - val_mae: 0.0321\n",
            "Epoch 82/300\n",
            "60/60 [==============================] - 1s 15ms/step - loss: 5.2226e-04 - mae: 0.0219 - val_loss: 0.0011 - val_mae: 0.0325\n",
            "Epoch 83/300\n",
            "60/60 [==============================] - 1s 14ms/step - loss: 5.3668e-04 - mae: 0.0227 - val_loss: 0.0011 - val_mae: 0.0326\n",
            "Epoch 84/300\n",
            "60/60 [==============================] - 1s 14ms/step - loss: 5.2524e-04 - mae: 0.0220 - val_loss: 0.0011 - val_mae: 0.0326\n",
            "Epoch 85/300\n",
            "60/60 [==============================] - 1s 14ms/step - loss: 5.5081e-04 - mae: 0.0232 - val_loss: 0.0011 - val_mae: 0.0345\n",
            "Epoch 86/300\n",
            "60/60 [==============================] - 1s 13ms/step - loss: 5.3748e-04 - mae: 0.0227 - val_loss: 0.0011 - val_mae: 0.0342\n",
            "Epoch 87/300\n",
            "60/60 [==============================] - 1s 13ms/step - loss: 5.2873e-04 - mae: 0.0221 - val_loss: 0.0010 - val_mae: 0.0323\n",
            "Epoch 88/300\n",
            "60/60 [==============================] - 1s 13ms/step - loss: 5.3439e-04 - mae: 0.0227 - val_loss: 0.0011 - val_mae: 0.0337\n",
            "Epoch 89/300\n",
            "60/60 [==============================] - 1s 14ms/step - loss: 5.5181e-04 - mae: 0.0233 - val_loss: 0.0012 - val_mae: 0.0372\n",
            "Epoch 90/300\n",
            "60/60 [==============================] - 1s 13ms/step - loss: 5.4198e-04 - mae: 0.0232 - val_loss: 0.0010 - val_mae: 0.0321\n",
            "Epoch 91/300\n",
            "60/60 [==============================] - 1s 14ms/step - loss: 5.4882e-04 - mae: 0.0230 - val_loss: 0.0012 - val_mae: 0.0357\n",
            "Epoch 92/300\n",
            "60/60 [==============================] - 1s 14ms/step - loss: 5.4780e-04 - mae: 0.0234 - val_loss: 0.0010 - val_mae: 0.0321\n",
            "Epoch 93/300\n",
            "60/60 [==============================] - 1s 14ms/step - loss: 5.2205e-04 - mae: 0.0221 - val_loss: 0.0011 - val_mae: 0.0323\n",
            "Epoch 94/300\n",
            "60/60 [==============================] - 1s 14ms/step - loss: 5.4693e-04 - mae: 0.0227 - val_loss: 0.0010 - val_mae: 0.0321\n",
            "Epoch 95/300\n",
            "60/60 [==============================] - 1s 14ms/step - loss: 5.3029e-04 - mae: 0.0224 - val_loss: 0.0012 - val_mae: 0.0344\n",
            "Epoch 96/300\n",
            "60/60 [==============================] - 1s 14ms/step - loss: 5.2888e-04 - mae: 0.0227 - val_loss: 0.0011 - val_mae: 0.0338\n",
            "Epoch 97/300\n",
            "60/60 [==============================] - 1s 14ms/step - loss: 5.2907e-04 - mae: 0.0226 - val_loss: 0.0010 - val_mae: 0.0320\n",
            "Epoch 98/300\n",
            "60/60 [==============================] - 1s 14ms/step - loss: 5.3787e-04 - mae: 0.0226 - val_loss: 0.0011 - val_mae: 0.0336\n",
            "Epoch 99/300\n",
            "60/60 [==============================] - 1s 14ms/step - loss: 5.4299e-04 - mae: 0.0229 - val_loss: 0.0011 - val_mae: 0.0332\n",
            "Epoch 100/300\n",
            "60/60 [==============================] - 1s 13ms/step - loss: 5.1850e-04 - mae: 0.0220 - val_loss: 0.0011 - val_mae: 0.0321\n",
            "Epoch 101/300\n",
            "60/60 [==============================] - 1s 14ms/step - loss: 5.4408e-04 - mae: 0.0227 - val_loss: 0.0011 - val_mae: 0.0324\n",
            "Epoch 102/300\n",
            "60/60 [==============================] - 1s 14ms/step - loss: 5.1824e-04 - mae: 0.0220 - val_loss: 0.0010 - val_mae: 0.0323\n",
            "Epoch 103/300\n",
            "60/60 [==============================] - 1s 13ms/step - loss: 5.2066e-04 - mae: 0.0218 - val_loss: 0.0011 - val_mae: 0.0338\n",
            "Epoch 104/300\n",
            "60/60 [==============================] - 1s 13ms/step - loss: 5.3224e-04 - mae: 0.0225 - val_loss: 0.0011 - val_mae: 0.0328\n",
            "Epoch 105/300\n",
            "60/60 [==============================] - 1s 13ms/step - loss: 5.2296e-04 - mae: 0.0219 - val_loss: 0.0010 - val_mae: 0.0320\n",
            "Epoch 106/300\n",
            "60/60 [==============================] - 1s 13ms/step - loss: 5.2100e-04 - mae: 0.0220 - val_loss: 0.0011 - val_mae: 0.0326\n",
            "Epoch 107/300\n",
            "60/60 [==============================] - 1s 13ms/step - loss: 5.3119e-04 - mae: 0.0225 - val_loss: 0.0011 - val_mae: 0.0323\n",
            "Epoch 108/300\n",
            "60/60 [==============================] - 1s 13ms/step - loss: 5.0957e-04 - mae: 0.0214 - val_loss: 0.0010 - val_mae: 0.0321\n",
            "Epoch 109/300\n",
            "60/60 [==============================] - 1s 14ms/step - loss: 5.1340e-04 - mae: 0.0217 - val_loss: 0.0011 - val_mae: 0.0324\n",
            "Epoch 110/300\n",
            "60/60 [==============================] - 1s 14ms/step - loss: 5.1220e-04 - mae: 0.0215 - val_loss: 0.0010 - val_mae: 0.0319\n",
            "Epoch 111/300\n",
            "60/60 [==============================] - 1s 14ms/step - loss: 5.3357e-04 - mae: 0.0221 - val_loss: 0.0010 - val_mae: 0.0319\n",
            "Epoch 112/300\n",
            "60/60 [==============================] - 1s 14ms/step - loss: 5.2002e-04 - mae: 0.0221 - val_loss: 0.0010 - val_mae: 0.0320\n",
            "Epoch 113/300\n",
            "60/60 [==============================] - 1s 14ms/step - loss: 5.2454e-04 - mae: 0.0220 - val_loss: 0.0010 - val_mae: 0.0320\n",
            "Epoch 114/300\n",
            "60/60 [==============================] - 1s 14ms/step - loss: 5.1754e-04 - mae: 0.0217 - val_loss: 0.0011 - val_mae: 0.0324\n",
            "Epoch 115/300\n",
            "60/60 [==============================] - 1s 14ms/step - loss: 5.1389e-04 - mae: 0.0218 - val_loss: 0.0011 - val_mae: 0.0323\n",
            "Epoch 116/300\n",
            "60/60 [==============================] - 1s 14ms/step - loss: 5.1352e-04 - mae: 0.0219 - val_loss: 0.0011 - val_mae: 0.0332\n",
            "Epoch 117/300\n",
            "60/60 [==============================] - 1s 14ms/step - loss: 5.2250e-04 - mae: 0.0220 - val_loss: 0.0010 - val_mae: 0.0319\n",
            "Epoch 118/300\n",
            "60/60 [==============================] - 1s 14ms/step - loss: 5.0229e-04 - mae: 0.0211 - val_loss: 0.0011 - val_mae: 0.0330\n",
            "Epoch 119/300\n",
            "60/60 [==============================] - 1s 13ms/step - loss: 5.1788e-04 - mae: 0.0217 - val_loss: 0.0011 - val_mae: 0.0339\n",
            "Epoch 120/300\n",
            "60/60 [==============================] - 1s 13ms/step - loss: 5.2331e-04 - mae: 0.0222 - val_loss: 0.0011 - val_mae: 0.0329\n",
            "Epoch 121/300\n",
            "60/60 [==============================] - 1s 14ms/step - loss: 5.1533e-04 - mae: 0.0216 - val_loss: 0.0011 - val_mae: 0.0326\n",
            "Epoch 122/300\n",
            "60/60 [==============================] - 1s 14ms/step - loss: 5.2869e-04 - mae: 0.0223 - val_loss: 0.0010 - val_mae: 0.0323\n",
            "Epoch 123/300\n",
            "60/60 [==============================] - 1s 14ms/step - loss: 5.0564e-04 - mae: 0.0214 - val_loss: 0.0010 - val_mae: 0.0320\n",
            "Epoch 124/300\n",
            "60/60 [==============================] - 1s 14ms/step - loss: 5.5258e-04 - mae: 0.0228 - val_loss: 0.0012 - val_mae: 0.0366\n",
            "Epoch 125/300\n",
            "60/60 [==============================] - 1s 12ms/step - loss: 5.3275e-04 - mae: 0.0227 - val_loss: 0.0010 - val_mae: 0.0319\n",
            "Epoch 126/300\n",
            "60/60 [==============================] - 1s 14ms/step - loss: 5.0540e-04 - mae: 0.0212 - val_loss: 0.0011 - val_mae: 0.0325\n",
            "Epoch 127/300\n",
            "60/60 [==============================] - 1s 13ms/step - loss: 5.2394e-04 - mae: 0.0221 - val_loss: 0.0010 - val_mae: 0.0320\n",
            "Epoch 128/300\n",
            "60/60 [==============================] - 1s 13ms/step - loss: 5.1816e-04 - mae: 0.0223 - val_loss: 0.0011 - val_mae: 0.0320\n"
          ],
          "name": "stdout"
        }
      ]
    },
    {
      "cell_type": "markdown",
      "metadata": {
        "id": "zhdJcQlNfOOM"
      },
      "source": [
        "Let's forecast this new model"
      ]
    },
    {
      "cell_type": "code",
      "metadata": {
        "id": "-C_By6tvetU5",
        "colab": {
          "base_uri": "https://localhost:8080/",
          "height": 34
        },
        "outputId": "80e0e04d-b552-4aa3-bf29-804510384154"
      },
      "source": [
        "rnn_forecast = model_forecast(model, series_np_n[split_time - window_size - 10:-1], window_size)[:,0]\n",
        "print(rnn_forecast.shape)\n",
        "rnn_forecast = scaler.inverse_transform(rnn_forecast)[:,0]"
      ],
      "execution_count": null,
      "outputs": [
        {
          "output_type": "stream",
          "text": [
            "(496, 1)\n"
          ],
          "name": "stdout"
        }
      ]
    },
    {
      "cell_type": "code",
      "metadata": {
        "id": "_qGOc3Z3vepi",
        "colab": {
          "base_uri": "https://localhost:8080/",
          "height": 34
        },
        "outputId": "76135218-b37b-4ec4-d952-4a5af2ea1355"
      },
      "source": [
        "def moving_avg(series, window_size):\n",
        "  mov = np.cumsum(series)\n",
        "  mov[window_size:] = mov[window_size:] - mov[:-window_size]\n",
        "  return mov[window_size - 1: - 1] / window_size\n",
        "\n",
        "mov_avg = moving_avg(rnn_forecast, 10)\n",
        "mov_avg.shape"
      ],
      "execution_count": null,
      "outputs": [
        {
          "output_type": "execute_result",
          "data": {
            "text/plain": [
              "(486,)"
            ]
          },
          "metadata": {
            "tags": []
          },
          "execution_count": 158
        }
      ]
    },
    {
      "cell_type": "markdown",
      "metadata": {
        "id": "SKUl78wzgDzv"
      },
      "source": [
        "Let's check it out!!"
      ]
    },
    {
      "cell_type": "code",
      "metadata": {
        "id": "UAVdvgXGf5S7",
        "colab": {
          "base_uri": "https://localhost:8080/",
          "height": 388
        },
        "outputId": "9a273e25-733f-48f5-d07b-daf53dd048ea"
      },
      "source": [
        "plt.figure(figsize = (10,6))\n",
        "plot_series(time_valid, x_valid_np, 'Closing Price')\n",
        "plot_series(time_valid, mov_avg, 'Forecast')"
      ],
      "execution_count": null,
      "outputs": [
        {
          "output_type": "display_data",
          "data": {
            "image/png": "[encoded data removed]",
            "text/plain": [
              "<Figure size 720x432 with 1 Axes>"
            ]
          },
          "metadata": {
            "tags": [],
            "needs_background": "light"
          }
        }
      ]
    },
    {
      "cell_type": "code",
      "metadata": {
        "id": "_byLpJqvgfwI",
        "colab": {
          "base_uri": "https://localhost:8080/",
          "height": 34
        },
        "outputId": "95f8b013-ffd2-4fd0-9892-ef84e11dddaa"
      },
      "source": [
        "keras.metrics.mean_absolute_error(x_valid_np, mov_avg).numpy()"
      ],
      "execution_count": null,
      "outputs": [
        {
          "output_type": "execute_result",
          "data": {
            "text/plain": [
              "32.751266"
            ]
          },
          "metadata": {
            "tags": []
          },
          "execution_count": 163
        }
      ]
    }
  ]
}